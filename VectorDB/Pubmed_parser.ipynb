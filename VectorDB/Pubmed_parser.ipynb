{
 "cells": [
  {
   "cell_type": "code",
   "execution_count": null,
   "id": "1a52e7db",
   "metadata": {},
   "outputs": [],
   "source": [
    "import os\n",
    "import re\n",
    "import glob\n",
    "import pickle\n",
    "from tqdm import tqdm\n",
    "import pandas as pd\n",
    "import xml.etree.ElementTree as ET\n",
    "\n",
    "import multiprocessing"
   ]
  },
  {
   "cell_type": "code",
   "execution_count": null,
   "id": "09625c27",
   "metadata": {},
   "outputs": [],
   "source": [
    "base_filename = \"/dataset/pubmed/pubmed23n*.xml\"\n",
    "output_path = '/dataset/pubmed_df_year'\n",
    "# files = sorted(glob.glob(base_filename), reverse=True)\n",
    "files = glob.glob(base_filename)"
   ]
  },
  {
   "cell_type": "code",
   "execution_count": null,
   "id": "ae2ce72f",
   "metadata": {},
   "outputs": [],
   "source": [
    "class Counter(object):\n",
    "    def __init__(self):\n",
    "        self.val = multiprocessing.Value('i', 0)\n",
    "\n",
    "    def increment(self, n=1):\n",
    "        with self.val.get_lock():\n",
    "            self.val.value += n\n",
    "\n",
    "    @property\n",
    "    def value(self):\n",
    "        return self.val.value"
   ]
  },
  {
   "cell_type": "code",
   "execution_count": null,
   "id": "9566187c",
   "metadata": {},
   "outputs": [],
   "source": [
    "\n",
    "\n",
    "def parse_xml(filename, output_file):\n",
    "    global counter\n",
    "    df = pd.DataFrame(columns = ['title', 'abstract', 'doi', 'first_author', 'year'])\n",
    "    with open(filename, encoding=\"utf-8\") as f:\n",
    "        # Parse the XML content\n",
    "        tree = ET.parse(f)\n",
    "        root = tree.getroot()\n",
    "        \n",
    "        # Process the XML data as needed\n",
    "        # (This is just an example; adapt based on your specific needs)\n",
    "        for article in root.findall(\".//Article\"):  # Adjust this based on the XML structure\n",
    "\n",
    "            year_elem = article.find('.//PubDate/Year')\n",
    "            if year_elem is None:\n",
    "                year_elem = article.find('.//PubDate/MedlineDate')\n",
    "            \n",
    "            abstract_elem = article.findall('.//AbstractText')\n",
    "            title_elem = article.find(\"ArticleTitle\")\n",
    "            first_author_elem = article.findall('.//Author')\n",
    "            \n",
    "            if len(abstract_elem) == 0 or title_elem is None:\n",
    "                continue\n",
    "            \n",
    "            \n",
    "            doi = ''\n",
    "            abstract = ''\n",
    "            first_author = ''\n",
    "            year = ''\n",
    "            title = title_elem.text\n",
    "            if year_elem is not None:\n",
    "                year = year_elem.text[:4]\n",
    "            \n",
    "            for x in abstract_elem:\n",
    "                if x.text is None:\n",
    "                    continue\n",
    "                if 'Label' in x.attrib:\n",
    "                    abstract += x.attrib['Label'] + \": \"\n",
    "                abstract += x.text + ' '            \n",
    "                \n",
    "            doi_elem = article.findall('.//ELocationID')\n",
    "            if doi_elem is not None:\n",
    "                for x in doi_elem:\n",
    "                    if x.attrib['EIdType'] == 'doi':\n",
    "                        doi = x.text               \n",
    "\n",
    "            if len(first_author_elem) == 0 or first_author_elem[0].find('LastName') is None:\n",
    "                continue\n",
    "            first_author = first_author_elem[0].find('LastName').text\n",
    "\n",
    "            df = pd.concat([df, pd.DataFrame.from_records([{\n",
    "                'title': title, 'abstract': abstract, 'doi': doi, 'first_author': first_author, 'year': year\n",
    "            }])])\n",
    "    df.to_pickle(output_file)\n",
    "    counter.increment()\n",
    "    print(f'{counter.value}/{len(files)} saved: {output_file}')\n"
   ]
  },
  {
   "cell_type": "code",
   "execution_count": null,
   "id": "1159a163",
   "metadata": {
    "scrolled": true
   },
   "outputs": [],
   "source": [
    "# Loop through all files\n",
    "counter = Counter()\n",
    "pool = multiprocessing.Pool(processes=4)\n",
    "processes = []\n",
    "for filename in tqdm(files):\n",
    "    \n",
    "    filenumber = os.path.basename(filename).split('.')[0]\n",
    "    output_file = os.path.join(output_path, f'{filenumber}.pkl')\n",
    "    if os.path.exists(output_file):\n",
    "        continue\n",
    "\n",
    "    processes.append((filename, output_file))\n",
    "#     p = multiprocessing.Process(target=parse_xml, args=(filename,output_file,))\n",
    "#     processes.append(p)\n",
    "#     p.start()\n",
    "\n",
    "output_List = pool.starmap(parse_xml, processes)\n",
    "pool.close()\n",
    "pool.join()"
   ]
  }
 ],
 "metadata": {
  "kernelspec": {
   "display_name": "Python 3",
   "language": "python",
   "name": "python3"
  },
  "language_info": {
   "codemirror_mode": {
    "name": "ipython",
    "version": 3
   },
   "file_extension": ".py",
   "mimetype": "text/x-python",
   "name": "python",
   "nbconvert_exporter": "python",
   "pygments_lexer": "ipython3",
   "version": "3.8.8"
  }
 },
 "nbformat": 4,
 "nbformat_minor": 5
}
